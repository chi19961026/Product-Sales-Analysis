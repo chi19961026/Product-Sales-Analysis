{
 "cells": [
  {
   "attachments": {},
   "cell_type": "markdown",
   "metadata": {},
   "source": [
    "# **Sales Data Analysis**\n",
    "Analyzing sales data can generate valuable insights into a business's trends, performance, and opportunities. Analyzing this dataset, which comprises transaction data from a portion of Amazon's Electronics Products Sales, we can acquire a thorough and rapid understanding of the business's dynamics.\n", 
    "Data Source:https://www.kaggle.com/datasets/knightbearr/sales-product-data"
   ]
  },
  {
   "attachments": {},
   "cell_type": "markdown",
   "metadata": {},
   "source": [
    "## Data Preparation\n"
   ]
  },
  {
   "attachments": {},
   "cell_type": "markdown",
   "metadata": {},
   "source": [
    "### Import Required Libraries "
   ]
  },
  {
   "cell_type": "code",
   "execution_count": 4937,
   "metadata": {},
   "outputs": [],
   "source": [
    "import pandas as pd\n",
    "import glob\n",
    "import numpy as np\n",
    "import matplotlib.pyplot as plt"
   ]
  },
  {
   "attachments": {},
   "cell_type": "markdown",
   "metadata": {},
   "source": [
    "### Create Reusable Functions\n"
   ]
  },
  {
   "attachments": {},
   "cell_type": "markdown",
   "metadata": {},
   "source": [
    "**Seperation Lines**"
   ]
  },
  {
   "cell_type": "code",
   "execution_count": 4938,
   "metadata": {},
   "outputs": [
    {
     "name": "stdout",
     "output_type": "stream",
     "text": [
      "\n",
      "-------------------------------------------------------------------------------------------\n",
      "\n"
     ]
    }
   ],
   "source": [
    "# Create function for generating separation lines\n",
    "def print_divider():\n",
    "    print(\"\")\n",
    "    print(\n",
    "        \"-------------------------------------------------------------------------------------------\"\n",
    "    )\n",
    "    print(\"\")\n",
    "\n",
    "# Check function\n",
    "print_divider()\n"
   ]
  },
  {
   "attachments": {},
   "cell_type": "markdown",
   "metadata": {},
   "source": [
    "**Thousand Separators**"
   ]
  },
  {
   "cell_type": "code",
   "execution_count": 4939,
   "metadata": {},
   "outputs": [
    {
     "name": "stdout",
     "output_type": "stream",
     "text": [
      "10,000,000.00\n"
     ]
    }
   ],
   "source": [
    "# Create function for inserting commas as thousand separators in numbers\n",
    "def thousand_sep(num):\n",
    "    if isinstance(num, pd.Series) or isinstance(num, np.ndarray):\n",
    "        return num.apply(lambda x: \"{:,.2f}\".format(x))\n",
    "    else:\n",
    "        return \"{:,.2f}\".format(num)\n",
    "    \n",
    "# Check function\n",
    "print(thousand_sep(10000000))"
   ]
  },
  {
   "attachments": {},
   "cell_type": "markdown",
   "metadata": {},
   "source": [
    "**Percentage Conversion**"
   ]
  },
  {
   "cell_type": "code",
   "execution_count": 4940,
   "metadata": {},
   "outputs": [
    {
     "name": "stdout",
     "output_type": "stream",
     "text": [
      "89.62%\n"
     ]
    }
   ],
   "source": [
    "# Create function for converting floats into percentage\n",
    "def percentage_format(num):\n",
    "    if isinstance(num, pd.Series) or isinstance(num, np.ndarray):\n",
    "        return num.apply(lambda x: \"{:.2f}%\".format(x * 100))\n",
    "    else:\n",
    "        return \"{:.2f}%\".format(num * 100)\n",
    "    \n",
    "# Check function\n",
    "print(percentage_format(0.896222))"
   ]
  },
  {
   "attachments": {},
   "cell_type": "markdown",
   "metadata": {},
   "source": [
    "### Data Check"
   ]
  },
  {
   "cell_type": "code",
   "execution_count": 4941,
   "metadata": {},
   "outputs": [
    {
     "data": {
      "text/html": [
       "<div>\n",
       "<style scoped>\n",
       "    .dataframe tbody tr th:only-of-type {\n",
       "        vertical-align: middle;\n",
       "    }\n",
       "\n",
       "    .dataframe tbody tr th {\n",
       "        vertical-align: top;\n",
       "    }\n",
       "\n",
       "    .dataframe thead th {\n",
       "        text-align: right;\n",
       "    }\n",
       "</style>\n",
       "<table border=\"1\" class=\"dataframe\">\n",
       "  <thead>\n",
       "    <tr style=\"text-align: right;\">\n",
       "      <th></th>\n",
       "      <th>Order ID</th>\n",
       "      <th>Product</th>\n",
       "      <th>Quantity Ordered</th>\n",
       "      <th>Price Each</th>\n",
       "      <th>Order Date</th>\n",
       "      <th>Purchase Address</th>\n",
       "    </tr>\n",
       "  </thead>\n",
       "  <tbody>\n",
       "    <tr>\n",
       "      <th>0</th>\n",
       "      <td>141234</td>\n",
       "      <td>iPhone</td>\n",
       "      <td>1</td>\n",
       "      <td>700</td>\n",
       "      <td>01/22/19 21:25</td>\n",
       "      <td>944 Walnut St, Boston, MA 02215</td>\n",
       "    </tr>\n",
       "    <tr>\n",
       "      <th>1</th>\n",
       "      <td>141235</td>\n",
       "      <td>Lightning Charging Cable</td>\n",
       "      <td>1</td>\n",
       "      <td>14.95</td>\n",
       "      <td>01/28/19 14:15</td>\n",
       "      <td>185 Maple St, Portland, OR 97035</td>\n",
       "    </tr>\n",
       "    <tr>\n",
       "      <th>2</th>\n",
       "      <td>141236</td>\n",
       "      <td>Wired Headphones</td>\n",
       "      <td>2</td>\n",
       "      <td>11.99</td>\n",
       "      <td>01/17/19 13:33</td>\n",
       "      <td>538 Adams St, San Francisco, CA 94016</td>\n",
       "    </tr>\n",
       "    <tr>\n",
       "      <th>3</th>\n",
       "      <td>141237</td>\n",
       "      <td>27in FHD Monitor</td>\n",
       "      <td>1</td>\n",
       "      <td>149.99</td>\n",
       "      <td>01/05/19 20:33</td>\n",
       "      <td>738 10th St, Los Angeles, CA 90001</td>\n",
       "    </tr>\n",
       "    <tr>\n",
       "      <th>4</th>\n",
       "      <td>141238</td>\n",
       "      <td>Wired Headphones</td>\n",
       "      <td>1</td>\n",
       "      <td>11.99</td>\n",
       "      <td>01/25/19 11:59</td>\n",
       "      <td>387 10th St, Austin, TX 73301</td>\n",
       "    </tr>\n",
       "  </tbody>\n",
       "</table>\n",
       "</div>"
      ],
      "text/plain": [
       "  Order ID                   Product Quantity Ordered Price Each  \\\n",
       "0   141234                    iPhone                1        700   \n",
       "1   141235  Lightning Charging Cable                1      14.95   \n",
       "2   141236          Wired Headphones                2      11.99   \n",
       "3   141237          27in FHD Monitor                1     149.99   \n",
       "4   141238          Wired Headphones                1      11.99   \n",
       "\n",
       "       Order Date                       Purchase Address  \n",
       "0  01/22/19 21:25        944 Walnut St, Boston, MA 02215  \n",
       "1  01/28/19 14:15       185 Maple St, Portland, OR 97035  \n",
       "2  01/17/19 13:33  538 Adams St, San Francisco, CA 94016  \n",
       "3  01/05/19 20:33     738 10th St, Los Angeles, CA 90001  \n",
       "4  01/25/19 11:59          387 10th St, Austin, TX 73301  "
      ]
     },
     "metadata": {},
     "output_type": "display_data"
    },
    {
     "name": "stdout",
     "output_type": "stream",
     "text": [
      "\n",
      "-------------------------------------------------------------------------------------------\n",
      "\n"
     ]
    },
    {
     "data": {
      "text/html": [
       "<div>\n",
       "<style scoped>\n",
       "    .dataframe tbody tr th:only-of-type {\n",
       "        vertical-align: middle;\n",
       "    }\n",
       "\n",
       "    .dataframe tbody tr th {\n",
       "        vertical-align: top;\n",
       "    }\n",
       "\n",
       "    .dataframe thead th {\n",
       "        text-align: right;\n",
       "    }\n",
       "</style>\n",
       "<table border=\"1\" class=\"dataframe\">\n",
       "  <thead>\n",
       "    <tr style=\"text-align: right;\">\n",
       "      <th></th>\n",
       "      <th>Order ID</th>\n",
       "      <th>Product</th>\n",
       "      <th>Quantity Ordered</th>\n",
       "      <th>Price Each</th>\n",
       "      <th>Order Date</th>\n",
       "      <th>Purchase Address</th>\n",
       "    </tr>\n",
       "  </thead>\n",
       "  <tbody>\n",
       "    <tr>\n",
       "      <th>count</th>\n",
       "      <td>9697</td>\n",
       "      <td>9697</td>\n",
       "      <td>9697</td>\n",
       "      <td>9697</td>\n",
       "      <td>9697</td>\n",
       "      <td>9697</td>\n",
       "    </tr>\n",
       "    <tr>\n",
       "      <th>unique</th>\n",
       "      <td>9269</td>\n",
       "      <td>20</td>\n",
       "      <td>8</td>\n",
       "      <td>19</td>\n",
       "      <td>8077</td>\n",
       "      <td>9161</td>\n",
       "    </tr>\n",
       "    <tr>\n",
       "      <th>top</th>\n",
       "      <td>Order ID</td>\n",
       "      <td>USB-C Charging Cable</td>\n",
       "      <td>1</td>\n",
       "      <td>11.95</td>\n",
       "      <td>Order Date</td>\n",
       "      <td>Purchase Address</td>\n",
       "    </tr>\n",
       "    <tr>\n",
       "      <th>freq</th>\n",
       "      <td>16</td>\n",
       "      <td>1171</td>\n",
       "      <td>8795</td>\n",
       "      <td>1171</td>\n",
       "      <td>16</td>\n",
       "      <td>16</td>\n",
       "    </tr>\n",
       "  </tbody>\n",
       "</table>\n",
       "</div>"
      ],
      "text/plain": [
       "        Order ID               Product Quantity Ordered Price Each  \\\n",
       "count       9697                  9697             9697       9697   \n",
       "unique      9269                    20                8         19   \n",
       "top     Order ID  USB-C Charging Cable                1      11.95   \n",
       "freq          16                  1171             8795       1171   \n",
       "\n",
       "        Order Date  Purchase Address  \n",
       "count         9697              9697  \n",
       "unique        8077              9161  \n",
       "top     Order Date  Purchase Address  \n",
       "freq            16                16  "
      ]
     },
     "metadata": {},
     "output_type": "display_data"
    }
   ],
   "source": [
    "# Look into one file first\n",
    "jan = pd.read_csv(\n",
    "    \"/Users/yoonchilee/Desktop/Python/sales product ds/archive/Sales_January_2019.csv\"\n",
    ")\n",
    "display(jan.head())\n",
    "print_divider()\n",
    "display(jan.describe())"
   ]
  },
  {
   "attachments": {},
   "cell_type": "markdown",
   "metadata": {},
   "source": [
    "### Merge 12 Datasets into a Single DataFrame"
   ]
  },
  {
   "cell_type": "code",
   "execution_count": 4942,
   "metadata": {},
   "outputs": [
    {
     "data": {
      "text/html": [
       "<div>\n",
       "<style scoped>\n",
       "    .dataframe tbody tr th:only-of-type {\n",
       "        vertical-align: middle;\n",
       "    }\n",
       "\n",
       "    .dataframe tbody tr th {\n",
       "        vertical-align: top;\n",
       "    }\n",
       "\n",
       "    .dataframe thead th {\n",
       "        text-align: right;\n",
       "    }\n",
       "</style>\n",
       "<table border=\"1\" class=\"dataframe\">\n",
       "  <thead>\n",
       "    <tr style=\"text-align: right;\">\n",
       "      <th></th>\n",
       "      <th>Order ID</th>\n",
       "      <th>Product</th>\n",
       "      <th>Quantity Ordered</th>\n",
       "      <th>Price Each</th>\n",
       "      <th>Order Date</th>\n",
       "      <th>Purchase Address</th>\n",
       "    </tr>\n",
       "  </thead>\n",
       "  <tbody>\n",
       "    <tr>\n",
       "      <th>0</th>\n",
       "      <td>295665</td>\n",
       "      <td>Macbook Pro Laptop</td>\n",
       "      <td>1</td>\n",
       "      <td>1700</td>\n",
       "      <td>12/30/19 00:01</td>\n",
       "      <td>136 Church St, New York City, NY 10001</td>\n",
       "    </tr>\n",
       "    <tr>\n",
       "      <th>1</th>\n",
       "      <td>295666</td>\n",
       "      <td>LG Washing Machine</td>\n",
       "      <td>1</td>\n",
       "      <td>600.0</td>\n",
       "      <td>12/29/19 07:03</td>\n",
       "      <td>562 2nd St, New York City, NY 10001</td>\n",
       "    </tr>\n",
       "    <tr>\n",
       "      <th>2</th>\n",
       "      <td>295667</td>\n",
       "      <td>USB-C Charging Cable</td>\n",
       "      <td>1</td>\n",
       "      <td>11.95</td>\n",
       "      <td>12/12/19 18:21</td>\n",
       "      <td>277 Main St, New York City, NY 10001</td>\n",
       "    </tr>\n",
       "    <tr>\n",
       "      <th>3</th>\n",
       "      <td>295668</td>\n",
       "      <td>27in FHD Monitor</td>\n",
       "      <td>1</td>\n",
       "      <td>149.99</td>\n",
       "      <td>12/22/19 15:13</td>\n",
       "      <td>410 6th St, San Francisco, CA 94016</td>\n",
       "    </tr>\n",
       "    <tr>\n",
       "      <th>4</th>\n",
       "      <td>295669</td>\n",
       "      <td>USB-C Charging Cable</td>\n",
       "      <td>1</td>\n",
       "      <td>11.95</td>\n",
       "      <td>12/18/19 12:38</td>\n",
       "      <td>43 Hill St, Atlanta, GA 30301</td>\n",
       "    </tr>\n",
       "  </tbody>\n",
       "</table>\n",
       "</div>"
      ],
      "text/plain": [
       "  Order ID               Product Quantity Ordered Price Each      Order Date  \\\n",
       "0   295665    Macbook Pro Laptop                1       1700  12/30/19 00:01   \n",
       "1   295666    LG Washing Machine                1      600.0  12/29/19 07:03   \n",
       "2   295667  USB-C Charging Cable                1      11.95  12/12/19 18:21   \n",
       "3   295668      27in FHD Monitor                1     149.99  12/22/19 15:13   \n",
       "4   295669  USB-C Charging Cable                1      11.95  12/18/19 12:38   \n",
       "\n",
       "                         Purchase Address  \n",
       "0  136 Church St, New York City, NY 10001  \n",
       "1     562 2nd St, New York City, NY 10001  \n",
       "2    277 Main St, New York City, NY 10001  \n",
       "3     410 6th St, San Francisco, CA 94016  \n",
       "4           43 Hill St, Atlanta, GA 30301  "
      ]
     },
     "metadata": {},
     "output_type": "display_data"
    },
    {
     "name": "stdout",
     "output_type": "stream",
     "text": [
      "\n",
      "-------------------------------------------------------------------------------------------\n",
      "\n"
     ]
    },
    {
     "data": {
      "text/html": [
       "<div>\n",
       "<style scoped>\n",
       "    .dataframe tbody tr th:only-of-type {\n",
       "        vertical-align: middle;\n",
       "    }\n",
       "\n",
       "    .dataframe tbody tr th {\n",
       "        vertical-align: top;\n",
       "    }\n",
       "\n",
       "    .dataframe thead th {\n",
       "        text-align: right;\n",
       "    }\n",
       "</style>\n",
       "<table border=\"1\" class=\"dataframe\">\n",
       "  <thead>\n",
       "    <tr style=\"text-align: right;\">\n",
       "      <th></th>\n",
       "      <th>Order ID</th>\n",
       "      <th>Product</th>\n",
       "      <th>Quantity Ordered</th>\n",
       "      <th>Price Each</th>\n",
       "      <th>Order Date</th>\n",
       "      <th>Purchase Address</th>\n",
       "    </tr>\n",
       "  </thead>\n",
       "  <tbody>\n",
       "    <tr>\n",
       "      <th>count</th>\n",
       "      <td>186305</td>\n",
       "      <td>186305</td>\n",
       "      <td>186305</td>\n",
       "      <td>186305</td>\n",
       "      <td>186305</td>\n",
       "      <td>186305</td>\n",
       "    </tr>\n",
       "    <tr>\n",
       "      <th>unique</th>\n",
       "      <td>178438</td>\n",
       "      <td>20</td>\n",
       "      <td>10</td>\n",
       "      <td>24</td>\n",
       "      <td>142396</td>\n",
       "      <td>140788</td>\n",
       "    </tr>\n",
       "    <tr>\n",
       "      <th>top</th>\n",
       "      <td>Order ID</td>\n",
       "      <td>USB-C Charging Cable</td>\n",
       "      <td>1</td>\n",
       "      <td>11.95</td>\n",
       "      <td>Order Date</td>\n",
       "      <td>Purchase Address</td>\n",
       "    </tr>\n",
       "    <tr>\n",
       "      <th>freq</th>\n",
       "      <td>355</td>\n",
       "      <td>21903</td>\n",
       "      <td>168552</td>\n",
       "      <td>21903</td>\n",
       "      <td>355</td>\n",
       "      <td>355</td>\n",
       "    </tr>\n",
       "  </tbody>\n",
       "</table>\n",
       "</div>"
      ],
      "text/plain": [
       "        Order ID               Product Quantity Ordered Price Each  \\\n",
       "count     186305                186305           186305     186305   \n",
       "unique    178438                    20               10         24   \n",
       "top     Order ID  USB-C Charging Cable                1      11.95   \n",
       "freq         355                 21903           168552      21903   \n",
       "\n",
       "        Order Date  Purchase Address  \n",
       "count       186305            186305  \n",
       "unique      142396            140788  \n",
       "top     Order Date  Purchase Address  \n",
       "freq           355               355  "
      ]
     },
     "metadata": {},
     "output_type": "display_data"
    }
   ],
   "source": [
    "# Read multiple csv and combine them as one dataframe\n",
    "file_paths = glob.glob(\n",
    "    \"/Users/yoonchilee/Desktop/Python/sales product ds/archive/*.csv\"\n",
    ")\n",
    "dfs = []\n",
    "for file_path in file_paths:\n",
    "    df = pd.read_csv(file_path)\n",
    "    dfs.append(df)\n",
    "combined_df = pd.concat(dfs, axis=0)\n",
    "\n",
    "# Combined data check \n",
    "display(combined_df.head()) \n",
    "print_divider()\n",
    "display(combined_df.describe())"
   ]
  },
  {
   "attachments": {},
   "cell_type": "markdown",
   "metadata": {},
   "source": [
    "## Data Cleaning\n"
   ]
  },
  {
   "attachments": {},
   "cell_type": "markdown",
   "metadata": {},
   "source": [
    "### Remove Null, Duplicated and Irrelevant Data\n"
   ]
  },
  {
   "attachments": {},
   "cell_type": "markdown",
   "metadata": {},
   "source": [
    "**Remove Null Data**"
   ]
  },
  {
   "cell_type": "code",
   "execution_count": 4943,
   "metadata": {},
   "outputs": [
    {
     "name": "stdout",
     "output_type": "stream",
     "text": [
      "Null Data Before Cleaning: \n",
      " Order ID            545\n",
      "Product             545\n",
      "Quantity Ordered    545\n",
      "Price Each          545\n",
      "Order Date          545\n",
      "Purchase Address    545\n",
      "dtype: int64\n",
      "\n",
      "-------------------------------------------------------------------------------------------\n",
      "\n",
      "Null Data After Cleaning: \n",
      " Order ID            0\n",
      "Product             0\n",
      "Quantity Ordered    0\n",
      "Price Each          0\n",
      "Order Date          0\n",
      "Purchase Address    0\n",
      "dtype: int64\n"
     ]
    }
   ],
   "source": [
    "# Identifying data problems\n",
    "print(\"Null Data Before Cleaning:\",\"\\n\" ,combined_df.isna().sum())\n",
    "print_divider()\n",
    "\n",
    "combined_df = combined_df.dropna()\n",
    "\n",
    "# Check data cleaning outcome\n",
    "print(\"Null Data After Cleaning:\",\"\\n\" ,combined_df.isna().sum())"
   ]
  },
  {
   "attachments": {},
   "cell_type": "markdown",
   "metadata": {},
   "source": [
    "**Remove Duplicated Data**"
   ]
  },
  {
   "cell_type": "code",
   "execution_count": 4944,
   "metadata": {},
   "outputs": [
    {
     "name": "stdout",
     "output_type": "stream",
     "text": [
      "Duplicated Data Before Cleaning: \n",
      " 618\n",
      "\n",
      "-------------------------------------------------------------------------------------------\n",
      "\n",
      "Duplicated Data After Cleaning: \n",
      " 0\n"
     ]
    }
   ],
   "source": [
    "# Identifying data problems\n",
    "print(\"Duplicated Data Before Cleaning:\",\"\\n\" ,combined_df.duplicated().sum()) \n",
    "print_divider()\n",
    "\n",
    "# Remove duplicated data\n",
    "combined_df = combined_df.drop_duplicates()\n",
    "\n",
    "# Check data cleaning outcome\n",
    "print(\"Duplicated Data After Cleaning:\",\"\\n\" ,combined_df.duplicated().sum()) "
   ]
  },
  {
   "attachments": {},
   "cell_type": "markdown",
   "metadata": {},
   "source": [
    "**Remove Irrelevant Data**"
   ]
  },
  {
   "cell_type": "code",
   "execution_count": 4945,
   "metadata": {},
   "outputs": [
    {
     "name": "stdout",
     "output_type": "stream",
     "text": [
      "Irrelevant Data Before Cleaning: \n",
      " ['1' '2' '4' '3' 'Quantity Ordered' '7' '5' '6' '8' '9']\n",
      "\n",
      "-------------------------------------------------------------------------------------------\n",
      "\n"
     ]
    },
    {
     "data": {
      "text/html": [
       "<div>\n",
       "<style scoped>\n",
       "    .dataframe tbody tr th:only-of-type {\n",
       "        vertical-align: middle;\n",
       "    }\n",
       "\n",
       "    .dataframe tbody tr th {\n",
       "        vertical-align: top;\n",
       "    }\n",
       "\n",
       "    .dataframe thead th {\n",
       "        text-align: right;\n",
       "    }\n",
       "</style>\n",
       "<table border=\"1\" class=\"dataframe\">\n",
       "  <thead>\n",
       "    <tr style=\"text-align: right;\">\n",
       "      <th></th>\n",
       "      <th>Order ID</th>\n",
       "      <th>Product</th>\n",
       "      <th>Quantity Ordered</th>\n",
       "      <th>Price Each</th>\n",
       "      <th>Order Date</th>\n",
       "      <th>Purchase Address</th>\n",
       "    </tr>\n",
       "  </thead>\n",
       "  <tbody>\n",
       "    <tr>\n",
       "      <th>254</th>\n",
       "      <td>Order ID</td>\n",
       "      <td>Product</td>\n",
       "      <td>Quantity Ordered</td>\n",
       "      <td>Price Each</td>\n",
       "      <td>Order Date</td>\n",
       "      <td>Purchase Address</td>\n",
       "    </tr>\n",
       "  </tbody>\n",
       "</table>\n",
       "</div>"
      ],
      "text/plain": [
       "     Order ID  Product  Quantity Ordered  Price Each  Order Date  \\\n",
       "254  Order ID  Product  Quantity Ordered  Price Each  Order Date   \n",
       "\n",
       "     Purchase Address  \n",
       "254  Purchase Address  "
      ]
     },
     "metadata": {},
     "output_type": "display_data"
    },
    {
     "name": "stdout",
     "output_type": "stream",
     "text": [
      "\n",
      "-------------------------------------------------------------------------------------------\n",
      "\n",
      "Irrelevant Data After Cleaning: \n",
      " ['1' '2' '4' '3' '7' '5' '6' '8' '9']\n"
     ]
    }
   ],
   "source": [
    "# Identifying data problems\n",
    "print(\"Irrelevant Data Before Cleaning:\",\"\\n\" ,combined_df['Quantity Ordered'].unique()) \n",
    "print_divider()\n",
    "display(combined_df[combined_df['Quantity Ordered'] == \"Quantity Ordered\"]) # Identifying data problem\n",
    "print_divider()\n",
    "\n",
    "# Remove irrelevant data\n",
    "combined_df = combined_df.drop(index=254)\n",
    "\n",
    "# Check data cleaning outcome\n",
    "print(\"Irrelevant Data After Cleaning:\",\"\\n\" ,combined_df['Quantity Ordered'].unique()) "
   ]
  },
  {
   "attachments": {},
   "cell_type": "markdown",
   "metadata": {},
   "source": [
    "## Data Manipulating"
   ]
  },
  {
   "attachments": {},
   "cell_type": "markdown",
   "metadata": {},
   "source": [
    "### Convert Data Type"
   ]
  },
  {
   "cell_type": "code",
   "execution_count": 4946,
   "metadata": {},
   "outputs": [
    {
     "name": "stdout",
     "output_type": "stream",
     "text": [
      "Data Before Converting:\n",
      "<class 'pandas.core.frame.DataFrame'>\n",
      "Index: 185675 entries, 0 to 13621\n",
      "Data columns (total 6 columns):\n",
      " #   Column            Non-Null Count   Dtype \n",
      "---  ------            --------------   ----- \n",
      " 0   Order ID          185675 non-null  object\n",
      " 1   Product           185675 non-null  object\n",
      " 2   Quantity Ordered  185675 non-null  object\n",
      " 3   Price Each        185675 non-null  object\n",
      " 4   Order Date        185675 non-null  object\n",
      " 5   Purchase Address  185675 non-null  object\n",
      "dtypes: object(6)\n",
      "memory usage: 9.9+ MB\n",
      "None\n",
      "\n",
      "-------------------------------------------------------------------------------------------\n",
      "\n",
      "Quantity Ordere: int32\n",
      "Price Each: float64\n"
     ]
    }
   ],
   "source": [
    "# Check current data type\n",
    "print(\"Data Before Converting:\")\n",
    "print(combined_df.info())\n",
    "print_divider()\n",
    "\n",
    "# Convert quantity ordered as int,  price each as float\n",
    "combined_df[\"Quantity Ordered\"] = combined_df[\"Quantity Ordered\"].astype(\"int32\")\n",
    "combined_df[\"Price Each\"] = combined_df[\"Price Each\"].astype(\"float\")\n",
    "\n",
    "print(\"Quantity Ordere:\", combined_df[\"Quantity Ordered\"].dtype)\n",
    "print(\"Price Each:\", combined_df[\"Price Each\"].dtype)"
   ]
  },
  {
   "attachments": {},
   "cell_type": "markdown",
   "metadata": {},
   "source": [
    "### Create an Aggregated Column in the DataFrame"
   ]
  },
  {
   "cell_type": "code",
   "execution_count": 4947,
   "metadata": {},
   "outputs": [
    {
     "name": "stdout",
     "output_type": "stream",
     "text": [
      "sales: float64\n",
      "\n",
      "-------------------------------------------------------------------------------------------\n",
      "\n"
     ]
    },
    {
     "data": {
      "text/html": [
       "<div>\n",
       "<style scoped>\n",
       "    .dataframe tbody tr th:only-of-type {\n",
       "        vertical-align: middle;\n",
       "    }\n",
       "\n",
       "    .dataframe tbody tr th {\n",
       "        vertical-align: top;\n",
       "    }\n",
       "\n",
       "    .dataframe thead th {\n",
       "        text-align: right;\n",
       "    }\n",
       "</style>\n",
       "<table border=\"1\" class=\"dataframe\">\n",
       "  <thead>\n",
       "    <tr style=\"text-align: right;\">\n",
       "      <th></th>\n",
       "      <th>Order ID</th>\n",
       "      <th>Product</th>\n",
       "      <th>Quantity Ordered</th>\n",
       "      <th>Price Each</th>\n",
       "      <th>Order Date</th>\n",
       "      <th>Purchase Address</th>\n",
       "      <th>sales</th>\n",
       "    </tr>\n",
       "  </thead>\n",
       "  <tbody>\n",
       "    <tr>\n",
       "      <th>0</th>\n",
       "      <td>295665</td>\n",
       "      <td>Macbook Pro Laptop</td>\n",
       "      <td>1</td>\n",
       "      <td>1700.00</td>\n",
       "      <td>12/30/19 00:01</td>\n",
       "      <td>136 Church St, New York City, NY 10001</td>\n",
       "      <td>1700.00</td>\n",
       "    </tr>\n",
       "    <tr>\n",
       "      <th>1</th>\n",
       "      <td>295666</td>\n",
       "      <td>LG Washing Machine</td>\n",
       "      <td>1</td>\n",
       "      <td>600.00</td>\n",
       "      <td>12/29/19 07:03</td>\n",
       "      <td>562 2nd St, New York City, NY 10001</td>\n",
       "      <td>600.00</td>\n",
       "    </tr>\n",
       "    <tr>\n",
       "      <th>2</th>\n",
       "      <td>295667</td>\n",
       "      <td>USB-C Charging Cable</td>\n",
       "      <td>1</td>\n",
       "      <td>11.95</td>\n",
       "      <td>12/12/19 18:21</td>\n",
       "      <td>277 Main St, New York City, NY 10001</td>\n",
       "      <td>11.95</td>\n",
       "    </tr>\n",
       "    <tr>\n",
       "      <th>3</th>\n",
       "      <td>295668</td>\n",
       "      <td>27in FHD Monitor</td>\n",
       "      <td>1</td>\n",
       "      <td>149.99</td>\n",
       "      <td>12/22/19 15:13</td>\n",
       "      <td>410 6th St, San Francisco, CA 94016</td>\n",
       "      <td>149.99</td>\n",
       "    </tr>\n",
       "    <tr>\n",
       "      <th>4</th>\n",
       "      <td>295669</td>\n",
       "      <td>USB-C Charging Cable</td>\n",
       "      <td>1</td>\n",
       "      <td>11.95</td>\n",
       "      <td>12/18/19 12:38</td>\n",
       "      <td>43 Hill St, Atlanta, GA 30301</td>\n",
       "      <td>11.95</td>\n",
       "    </tr>\n",
       "  </tbody>\n",
       "</table>\n",
       "</div>"
      ],
      "text/plain": [
       "  Order ID               Product  Quantity Ordered  Price Each  \\\n",
       "0   295665    Macbook Pro Laptop                 1     1700.00   \n",
       "1   295666    LG Washing Machine                 1      600.00   \n",
       "2   295667  USB-C Charging Cable                 1       11.95   \n",
       "3   295668      27in FHD Monitor                 1      149.99   \n",
       "4   295669  USB-C Charging Cable                 1       11.95   \n",
       "\n",
       "       Order Date                        Purchase Address    sales  \n",
       "0  12/30/19 00:01  136 Church St, New York City, NY 10001  1700.00  \n",
       "1  12/29/19 07:03     562 2nd St, New York City, NY 10001   600.00  \n",
       "2  12/12/19 18:21    277 Main St, New York City, NY 10001    11.95  \n",
       "3  12/22/19 15:13     410 6th St, San Francisco, CA 94016   149.99  \n",
       "4  12/18/19 12:38           43 Hill St, Atlanta, GA 30301    11.95  "
      ]
     },
     "metadata": {},
     "output_type": "display_data"
    }
   ],
   "source": [
    "# Create sales column and check its data type\n",
    "combined_df[\"sales\"] = combined_df[\"Price Each\"] * combined_df[\"Quantity Ordered\"]\n",
    "print(\"sales:\", combined_df[\"sales\"].dtype)\n",
    "print_divider()\n",
    "\n",
    "# Check updated DataFrame\n",
    "display(combined_df.head())"
   ]
  },
  {
   "attachments": {},
   "cell_type": "markdown",
   "metadata": {},
   "source": [
    "### Convert String to Datetime & Parsing Dates"
   ]
  },
  {
   "cell_type": "code",
   "execution_count": 4948,
   "metadata": {},
   "outputs": [
    {
     "name": "stdout",
     "output_type": "stream",
     "text": [
      "Year: [2019 2020]\n",
      "Month: [ 1  2  3  4  5  6  7  8  9 10 11 12]\n",
      "Day: [ 1  2  3  4  5  6  7  8  9 10 11 12 13 14 15 16 17 18 19 20 21 22 23 24\n",
      " 25 26 27 28 29 30 31]\n"
     ]
    }
   ],
   "source": [
    "# Order date as datetime, add Year, Month & Day columns\n",
    "combined_df[\"Order Date\"] = pd.to_datetime(\n",
    "    combined_df[\"Order Date\"], format=\"%m/%d/%y %H:%M\"\n",
    ")\n",
    "combined_df[\"Year\"] = combined_df[\"Order Date\"].dt.year\n",
    "combined_df[\"Month\"] = combined_df[\"Order Date\"].dt.month\n",
    "combined_df[\"Day\"] = combined_df[\"Order Date\"].dt.day\n",
    "\n",
    "# Check Converted Datetime Data in Ascending Order\n",
    "print(\"Year:\", np.sort(combined_df[\"Year\"].unique()))\n",
    "print(\"Month:\", np.sort(combined_df[\"Month\"].unique()))\n",
    "print(\"Day:\", np.sort(combined_df[\"Day\"].unique()))\n"
   ]
  },
  {
   "attachments": {},
   "cell_type": "markdown",
   "metadata": {},
   "source": [
    "### Check Cleaned Data Outcome"
   ]
  },
  {
   "cell_type": "code",
   "execution_count": 4949,
   "metadata": {},
   "outputs": [
    {
     "name": "stdout",
     "output_type": "stream",
     "text": [
      "<class 'pandas.core.frame.DataFrame'>\n",
      "Index: 185675 entries, 0 to 13621\n",
      "Data columns (total 10 columns):\n",
      " #   Column            Non-Null Count   Dtype         \n",
      "---  ------            --------------   -----         \n",
      " 0   Order ID          185675 non-null  object        \n",
      " 1   Product           185675 non-null  object        \n",
      " 2   Quantity Ordered  185675 non-null  int32         \n",
      " 3   Price Each        185675 non-null  float64       \n",
      " 4   Order Date        185675 non-null  datetime64[ns]\n",
      " 5   Purchase Address  185675 non-null  object        \n",
      " 6   sales             185675 non-null  float64       \n",
      " 7   Year              185675 non-null  int32         \n",
      " 8   Month             185675 non-null  int32         \n",
      " 9   Day               185675 non-null  int32         \n",
      "dtypes: datetime64[ns](1), float64(2), int32(4), object(3)\n",
      "memory usage: 12.7+ MB\n",
      "None\n",
      "\n",
      "-------------------------------------------------------------------------------------------\n",
      "\n"
     ]
    },
    {
     "data": {
      "text/html": [
       "<div>\n",
       "<style scoped>\n",
       "    .dataframe tbody tr th:only-of-type {\n",
       "        vertical-align: middle;\n",
       "    }\n",
       "\n",
       "    .dataframe tbody tr th {\n",
       "        vertical-align: top;\n",
       "    }\n",
       "\n",
       "    .dataframe thead th {\n",
       "        text-align: right;\n",
       "    }\n",
       "</style>\n",
       "<table border=\"1\" class=\"dataframe\">\n",
       "  <thead>\n",
       "    <tr style=\"text-align: right;\">\n",
       "      <th></th>\n",
       "      <th>Order ID</th>\n",
       "      <th>Product</th>\n",
       "      <th>Quantity Ordered</th>\n",
       "      <th>Price Each</th>\n",
       "      <th>Order Date</th>\n",
       "      <th>Purchase Address</th>\n",
       "      <th>sales</th>\n",
       "      <th>Year</th>\n",
       "      <th>Month</th>\n",
       "      <th>Day</th>\n",
       "    </tr>\n",
       "  </thead>\n",
       "  <tbody>\n",
       "    <tr>\n",
       "      <th>0</th>\n",
       "      <td>295665</td>\n",
       "      <td>Macbook Pro Laptop</td>\n",
       "      <td>1</td>\n",
       "      <td>1700.00</td>\n",
       "      <td>2019-12-30 00:01:00</td>\n",
       "      <td>136 Church St, New York City, NY 10001</td>\n",
       "      <td>1700.00</td>\n",
       "      <td>2019</td>\n",
       "      <td>12</td>\n",
       "      <td>30</td>\n",
       "    </tr>\n",
       "    <tr>\n",
       "      <th>1</th>\n",
       "      <td>295666</td>\n",
       "      <td>LG Washing Machine</td>\n",
       "      <td>1</td>\n",
       "      <td>600.00</td>\n",
       "      <td>2019-12-29 07:03:00</td>\n",
       "      <td>562 2nd St, New York City, NY 10001</td>\n",
       "      <td>600.00</td>\n",
       "      <td>2019</td>\n",
       "      <td>12</td>\n",
       "      <td>29</td>\n",
       "    </tr>\n",
       "    <tr>\n",
       "      <th>2</th>\n",
       "      <td>295667</td>\n",
       "      <td>USB-C Charging Cable</td>\n",
       "      <td>1</td>\n",
       "      <td>11.95</td>\n",
       "      <td>2019-12-12 18:21:00</td>\n",
       "      <td>277 Main St, New York City, NY 10001</td>\n",
       "      <td>11.95</td>\n",
       "      <td>2019</td>\n",
       "      <td>12</td>\n",
       "      <td>12</td>\n",
       "    </tr>\n",
       "    <tr>\n",
       "      <th>3</th>\n",
       "      <td>295668</td>\n",
       "      <td>27in FHD Monitor</td>\n",
       "      <td>1</td>\n",
       "      <td>149.99</td>\n",
       "      <td>2019-12-22 15:13:00</td>\n",
       "      <td>410 6th St, San Francisco, CA 94016</td>\n",
       "      <td>149.99</td>\n",
       "      <td>2019</td>\n",
       "      <td>12</td>\n",
       "      <td>22</td>\n",
       "    </tr>\n",
       "    <tr>\n",
       "      <th>4</th>\n",
       "      <td>295669</td>\n",
       "      <td>USB-C Charging Cable</td>\n",
       "      <td>1</td>\n",
       "      <td>11.95</td>\n",
       "      <td>2019-12-18 12:38:00</td>\n",
       "      <td>43 Hill St, Atlanta, GA 30301</td>\n",
       "      <td>11.95</td>\n",
       "      <td>2019</td>\n",
       "      <td>12</td>\n",
       "      <td>18</td>\n",
       "    </tr>\n",
       "    <tr>\n",
       "      <th>5</th>\n",
       "      <td>295670</td>\n",
       "      <td>AA Batteries (4-pack)</td>\n",
       "      <td>1</td>\n",
       "      <td>3.84</td>\n",
       "      <td>2019-12-31 22:58:00</td>\n",
       "      <td>200 Jefferson St, New York City, NY 10001</td>\n",
       "      <td>3.84</td>\n",
       "      <td>2019</td>\n",
       "      <td>12</td>\n",
       "      <td>31</td>\n",
       "    </tr>\n",
       "    <tr>\n",
       "      <th>6</th>\n",
       "      <td>295671</td>\n",
       "      <td>USB-C Charging Cable</td>\n",
       "      <td>1</td>\n",
       "      <td>11.95</td>\n",
       "      <td>2019-12-16 15:10:00</td>\n",
       "      <td>928 12th St, Portland, OR 97035</td>\n",
       "      <td>11.95</td>\n",
       "      <td>2019</td>\n",
       "      <td>12</td>\n",
       "      <td>16</td>\n",
       "    </tr>\n",
       "    <tr>\n",
       "      <th>7</th>\n",
       "      <td>295672</td>\n",
       "      <td>USB-C Charging Cable</td>\n",
       "      <td>2</td>\n",
       "      <td>11.95</td>\n",
       "      <td>2019-12-13 09:29:00</td>\n",
       "      <td>813 Hickory St, Dallas, TX 75001</td>\n",
       "      <td>23.90</td>\n",
       "      <td>2019</td>\n",
       "      <td>12</td>\n",
       "      <td>13</td>\n",
       "    </tr>\n",
       "    <tr>\n",
       "      <th>8</th>\n",
       "      <td>295673</td>\n",
       "      <td>Bose SoundSport Headphones</td>\n",
       "      <td>1</td>\n",
       "      <td>99.99</td>\n",
       "      <td>2019-12-15 23:26:00</td>\n",
       "      <td>718 Wilson St, Dallas, TX 75001</td>\n",
       "      <td>99.99</td>\n",
       "      <td>2019</td>\n",
       "      <td>12</td>\n",
       "      <td>15</td>\n",
       "    </tr>\n",
       "    <tr>\n",
       "      <th>9</th>\n",
       "      <td>295674</td>\n",
       "      <td>AAA Batteries (4-pack)</td>\n",
       "      <td>4</td>\n",
       "      <td>2.99</td>\n",
       "      <td>2019-12-28 11:51:00</td>\n",
       "      <td>77 7th St, Dallas, TX 75001</td>\n",
       "      <td>11.96</td>\n",
       "      <td>2019</td>\n",
       "      <td>12</td>\n",
       "      <td>28</td>\n",
       "    </tr>\n",
       "  </tbody>\n",
       "</table>\n",
       "</div>"
      ],
      "text/plain": [
       "  Order ID                     Product  Quantity Ordered  Price Each  \\\n",
       "0   295665          Macbook Pro Laptop                 1     1700.00   \n",
       "1   295666          LG Washing Machine                 1      600.00   \n",
       "2   295667        USB-C Charging Cable                 1       11.95   \n",
       "3   295668            27in FHD Monitor                 1      149.99   \n",
       "4   295669        USB-C Charging Cable                 1       11.95   \n",
       "5   295670       AA Batteries (4-pack)                 1        3.84   \n",
       "6   295671        USB-C Charging Cable                 1       11.95   \n",
       "7   295672        USB-C Charging Cable                 2       11.95   \n",
       "8   295673  Bose SoundSport Headphones                 1       99.99   \n",
       "9   295674      AAA Batteries (4-pack)                 4        2.99   \n",
       "\n",
       "           Order Date                           Purchase Address    sales  \\\n",
       "0 2019-12-30 00:01:00     136 Church St, New York City, NY 10001  1700.00   \n",
       "1 2019-12-29 07:03:00        562 2nd St, New York City, NY 10001   600.00   \n",
       "2 2019-12-12 18:21:00       277 Main St, New York City, NY 10001    11.95   \n",
       "3 2019-12-22 15:13:00        410 6th St, San Francisco, CA 94016   149.99   \n",
       "4 2019-12-18 12:38:00              43 Hill St, Atlanta, GA 30301    11.95   \n",
       "5 2019-12-31 22:58:00  200 Jefferson St, New York City, NY 10001     3.84   \n",
       "6 2019-12-16 15:10:00            928 12th St, Portland, OR 97035    11.95   \n",
       "7 2019-12-13 09:29:00           813 Hickory St, Dallas, TX 75001    23.90   \n",
       "8 2019-12-15 23:26:00            718 Wilson St, Dallas, TX 75001    99.99   \n",
       "9 2019-12-28 11:51:00                77 7th St, Dallas, TX 75001    11.96   \n",
       "\n",
       "   Year  Month  Day  \n",
       "0  2019     12   30  \n",
       "1  2019     12   29  \n",
       "2  2019     12   12  \n",
       "3  2019     12   22  \n",
       "4  2019     12   18  \n",
       "5  2019     12   31  \n",
       "6  2019     12   16  \n",
       "7  2019     12   13  \n",
       "8  2019     12   15  \n",
       "9  2019     12   28  "
      ]
     },
     "metadata": {},
     "output_type": "display_data"
    }
   ],
   "source": [
    "print(combined_df.info())\n",
    "print_divider()\n",
    "display(combined_df.head(10))"
   ]
  },
  {
   "attachments": {},
   "cell_type": "markdown",
   "metadata": {},
   "source": [
    "# Data Analysis"
   ]
  },
  {
   "attachments": {},
   "cell_type": "markdown",
   "metadata": {},
   "source": [
    "## 2019 Sales Overview & Vizualization"
   ]
  },
  {
   "attachments": {},
   "cell_type": "markdown",
   "metadata": {},
   "source": [
    "### Sales Revenue"
   ]
  },
  {
   "cell_type": "code",
   "execution_count": 4950,
   "metadata": {},
   "outputs": [
    {
     "name": "stdout",
     "output_type": "stream",
     "text": [
      "Annual sales revenue: 34,455,861.94\n",
      "\n",
      "-------------------------------------------------------------------------------------------\n",
      "\n",
      "Monthly sales revenu in 2019: \n",
      " Month\n",
      "1     1,812,739.03\n",
      "2     2,199,698.09\n",
      "3     2,804,961.36\n",
      "4     3,389,205.99\n",
      "5     3,150,601.28\n",
      "6     2,576,130.15\n",
      "7     2,646,458.33\n",
      "8     2,241,071.38\n",
      "9     2,094,065.69\n",
      "10    3,734,771.88\n",
      "11    3,197,863.06\n",
      "12    4,608,295.70\n",
      "Name: sales, dtype: object\n"
     ]
    }
   ],
   "source": [
    "# Annual sales revenue\n",
    "df_2019 = combined_df[combined_df[\"Year\"] == 2019] #filtering 2019 sales data\n",
    "annual_sales_rev = sum(df_2019[\"sales\"])\n",
    "print(\"Annual sales revenue:\", thousand_sep(annual_sales_rev))\n",
    "print_divider()\n",
    "\n",
    "# Monthly sales revenu\n",
    "month_2019 = df_2019.groupby(\"Month\")[\"sales\"].sum()\n",
    "print(\"Monthly sales revenu in 2019:\", \"\\n\", thousand_sep(month_2019))"
   ]
  },
  {
   "cell_type": "code",
   "execution_count": 4951,
   "metadata": {},
   "outputs": [
    {
     "data": {
      "image/png": "[encoded data removed]",
      "text/plain": [
       "<Figure size 640x480 with 1 Axes>"
      ]
     },
     "metadata": {},
     "output_type": "display_data"
    }
   ],
   "source": [
    "# Visualizing 2019 monthly sales revenue\n",
    "month_2019.plot(kind=\"bar\")\n",
    "y=np.arange(0, 5000000, 500000)\n",
    "y_ticks=np.arange(0,5,0.5)            \n",
    "plt.yticks(y, y_ticks) \n",
    "plt.xlabel(\"Month\")\n",
    "plt.ylabel(\"Sales Revenue(Million)\")\n",
    "plt.title(\"2019 Monthly Sales Revenue\")\n",
    "plt.show()"
   ]
  },
  {
   "attachments": {},
   "cell_type": "markdown",
   "metadata": {},
   "source": [
    "**Calculating and Visualizing Proportion of Monthly Sales Revenue**"
   ]
  },
  {
   "cell_type": "code",
   "execution_count": 4952,
   "metadata": {},
   "outputs": [
    {
     "name": "stdout",
     "output_type": "stream",
     "text": [
      "Proportion of Monthly Sales Revenue in 2019: \n",
      " Month\n",
      "1      5.26%\n",
      "2      6.38%\n",
      "3      8.14%\n",
      "4      9.84%\n",
      "5      9.14%\n",
      "6      7.48%\n",
      "7      7.68%\n",
      "8      6.50%\n",
      "9      6.08%\n",
      "10    10.84%\n",
      "11     9.28%\n",
      "12    13.37%\n",
      "Name: sales, dtype: object\n"
     ]
    },
    {
     "data": {
      "image/png": "[encoded data removed]",
      "text/plain": [
       "<Figure size 640x480 with 1 Axes>"
      ]
     },
     "metadata": {},
     "output_type": "display_data"
    }
   ],
   "source": [
    "# Calculating\n",
    "proportion = month_2019 / month_2019.sum()\n",
    "print(\"Proportion of Monthly Sales Revenue in 2019:\", \"\\n\",percentage_format(proportion))\n",
    "\n",
    "# Visualizing\n",
    "proportion.plot(kind=\"line\")\n",
    "y=np.arange(0, 0.15, 0.02)\n",
    "y_ticks=np.arange(0, 15, 2)            \n",
    "plt.yticks(y, y_ticks) \n",
    "plt.xlabel(\"Month\")\n",
    "plt.ylabel(\"Sales Revenue Proportion(%)\")\n",
    "plt.title(\"Proportion of Monthly Sales Revenue in 2019\")\n",
    "plt.show()"
   ]
  },
  {
   "attachments": {},
   "cell_type": "markdown",
   "metadata": {},
   "source": [
    "**What is the daily sales trend in December 2019 like?**"
   ]
  },
  {
   "cell_type": "code",
   "execution_count": 4953,
   "metadata": {},
   "outputs": [
    {
     "name": "stdout",
     "output_type": "stream",
     "text": [
      "Daily Sales in December 2019: \n",
      " Day\n",
      "1     148,123.73\n",
      "2     149,021.87\n",
      "3     142,470.46\n",
      "4     166,577.69\n",
      "5     155,079.30\n",
      "6     151,910.47\n",
      "7     139,530.81\n",
      "8     142,527.64\n",
      "9     147,131.29\n",
      "10    162,820.75\n",
      "11    146,367.03\n",
      "12    144,183.16\n",
      "13    152,767.20\n",
      "14    141,841.78\n",
      "15    142,889.73\n",
      "16    162,970.61\n",
      "17    157,357.04\n",
      "18    154,598.77\n",
      "19    137,732.67\n",
      "20    160,178.31\n",
      "21    154,656.88\n",
      "22    146,928.21\n",
      "23    152,064.45\n",
      "24    152,888.82\n",
      "25    152,268.42\n",
      "26    143,896.20\n",
      "27    126,604.07\n",
      "28    133,601.53\n",
      "29    156,009.67\n",
      "30    151,857.82\n",
      "31    131,439.32\n",
      "Name: sales, dtype: object\n",
      "\n",
      "-------------------------------------------------------------------------------------------\n",
      "\n"
     ]
    },
    {
     "data": {
      "image/png": "[encoded data removed]",
      "text/plain": [
       "<Figure size 640x480 with 1 Axes>"
      ]
     },
     "metadata": {},
     "output_type": "display_data"
    }
   ],
   "source": [
    "# Calculating\n",
    "df_2019_dec = df_2019[df_2019[\"Month\"] == 12] #filtering December sales data\n",
    "december_rev = df_2019_dec.groupby(\"Day\")[\"sales\"].sum()\n",
    "print(\"Daily Sales in December 2019:\", \"\\n\",thousand_sep(december_rev))\n",
    "print_divider()\n",
    "\n",
    "# Visualizing\n",
    "december_rev.plot(kind=\"line\")\n",
    "y=np.arange(0, 200000, 50000)\n",
    "y_ticks=np.arange(0,200,50)            \n",
    "plt.yticks(y, y_ticks) \n",
    "plt.xlabel(\"Day\")\n",
    "plt.ylabel(\"Sales Revenue(K)\")\n",
    "plt.title(\"2019_December Daily Sales Revenue\")\n",
    "plt.show()"
   ]
  },
  {
   "attachments": {},
   "cell_type": "markdown",
   "metadata": {},
   "source": [
    "## 2019 Products Overview & Vizualization"
   ]
  },
  {
   "attachments": {},
   "cell_type": "markdown",
   "metadata": {},
   "source": [
    "### Product Sales Ｖolume and Revenue"
   ]
  },
  {
   "cell_type": "code",
   "execution_count": 4954,
   "metadata": {},
   "outputs": [
    {
     "data": {
      "text/html": [
       "<div>\n",
       "<style scoped>\n",
       "    .dataframe tbody tr th:only-of-type {\n",
       "        vertical-align: middle;\n",
       "    }\n",
       "\n",
       "    .dataframe tbody tr th {\n",
       "        vertical-align: top;\n",
       "    }\n",
       "\n",
       "    .dataframe thead th {\n",
       "        text-align: right;\n",
       "    }\n",
       "</style>\n",
       "<table border=\"1\" class=\"dataframe\">\n",
       "  <thead>\n",
       "    <tr style=\"text-align: right;\">\n",
       "      <th></th>\n",
       "      <th>Quantity Ordered</th>\n",
       "      <th>sales</th>\n",
       "      <th>quantity_pro</th>\n",
       "      <th>sales_pro</th>\n",
       "    </tr>\n",
       "    <tr>\n",
       "      <th>Product</th>\n",
       "      <th></th>\n",
       "      <th></th>\n",
       "      <th></th>\n",
       "      <th></th>\n",
       "    </tr>\n",
       "  </thead>\n",
       "  <tbody>\n",
       "    <tr>\n",
       "      <th>Macbook Pro Laptop</th>\n",
       "      <td>4724</td>\n",
       "      <td>8030800.00</td>\n",
       "      <td>2.26%</td>\n",
       "      <td>23.31%</td>\n",
       "    </tr>\n",
       "    <tr>\n",
       "      <th>iPhone</th>\n",
       "      <td>6845</td>\n",
       "      <td>4791500.00</td>\n",
       "      <td>3.28%</td>\n",
       "      <td>13.91%</td>\n",
       "    </tr>\n",
       "    <tr>\n",
       "      <th>ThinkPad Laptop</th>\n",
       "      <td>4126</td>\n",
       "      <td>4125958.74</td>\n",
       "      <td>1.98%</td>\n",
       "      <td>11.97%</td>\n",
       "    </tr>\n",
       "    <tr>\n",
       "      <th>Google Phone</th>\n",
       "      <td>5528</td>\n",
       "      <td>3316800.00</td>\n",
       "      <td>2.65%</td>\n",
       "      <td>9.63%</td>\n",
       "    </tr>\n",
       "    <tr>\n",
       "      <th>27in 4K Gaming Monitor</th>\n",
       "      <td>6238</td>\n",
       "      <td>2432757.62</td>\n",
       "      <td>2.99%</td>\n",
       "      <td>7.06%</td>\n",
       "    </tr>\n",
       "    <tr>\n",
       "      <th>34in Ultrawide Monitor</th>\n",
       "      <td>6191</td>\n",
       "      <td>2352518.09</td>\n",
       "      <td>2.97%</td>\n",
       "      <td>6.83%</td>\n",
       "    </tr>\n",
       "    <tr>\n",
       "      <th>Apple Airpods Headphones</th>\n",
       "      <td>15632</td>\n",
       "      <td>2344800.00</td>\n",
       "      <td>7.49%</td>\n",
       "      <td>6.81%</td>\n",
       "    </tr>\n",
       "    <tr>\n",
       "      <th>Flatscreen TV</th>\n",
       "      <td>4812</td>\n",
       "      <td>1443600.00</td>\n",
       "      <td>2.31%</td>\n",
       "      <td>4.19%</td>\n",
       "    </tr>\n",
       "    <tr>\n",
       "      <th>Bose SoundSport Headphones</th>\n",
       "      <td>13427</td>\n",
       "      <td>1342565.73</td>\n",
       "      <td>6.43%</td>\n",
       "      <td>3.90%</td>\n",
       "    </tr>\n",
       "    <tr>\n",
       "      <th>27in FHD Monitor</th>\n",
       "      <td>7538</td>\n",
       "      <td>1130624.62</td>\n",
       "      <td>3.61%</td>\n",
       "      <td>3.28%</td>\n",
       "    </tr>\n",
       "    <tr>\n",
       "      <th>Vareebadd Phone</th>\n",
       "      <td>2066</td>\n",
       "      <td>826400.00</td>\n",
       "      <td>0.99%</td>\n",
       "      <td>2.40%</td>\n",
       "    </tr>\n",
       "    <tr>\n",
       "      <th>20in Monitor</th>\n",
       "      <td>4123</td>\n",
       "      <td>453488.77</td>\n",
       "      <td>1.98%</td>\n",
       "      <td>1.32%</td>\n",
       "    </tr>\n",
       "    <tr>\n",
       "      <th>LG Washing Machine</th>\n",
       "      <td>666</td>\n",
       "      <td>399600.00</td>\n",
       "      <td>0.32%</td>\n",
       "      <td>1.16%</td>\n",
       "    </tr>\n",
       "    <tr>\n",
       "      <th>LG Dryer</th>\n",
       "      <td>646</td>\n",
       "      <td>387600.00</td>\n",
       "      <td>0.31%</td>\n",
       "      <td>1.12%</td>\n",
       "    </tr>\n",
       "    <tr>\n",
       "      <th>Lightning Charging Cable</th>\n",
       "      <td>23162</td>\n",
       "      <td>346271.90</td>\n",
       "      <td>11.10%</td>\n",
       "      <td>1.00%</td>\n",
       "    </tr>\n",
       "    <tr>\n",
       "      <th>USB-C Charging Cable</th>\n",
       "      <td>23927</td>\n",
       "      <td>285927.65</td>\n",
       "      <td>11.46%</td>\n",
       "      <td>0.83%</td>\n",
       "    </tr>\n",
       "    <tr>\n",
       "      <th>Wired Headphones</th>\n",
       "      <td>20516</td>\n",
       "      <td>245986.84</td>\n",
       "      <td>9.83%</td>\n",
       "      <td>0.71%</td>\n",
       "    </tr>\n",
       "    <tr>\n",
       "      <th>AA Batteries (4-pack)</th>\n",
       "      <td>27614</td>\n",
       "      <td>106037.76</td>\n",
       "      <td>13.23%</td>\n",
       "      <td>0.31%</td>\n",
       "    </tr>\n",
       "    <tr>\n",
       "      <th>AAA Batteries (4-pack)</th>\n",
       "      <td>30978</td>\n",
       "      <td>92624.22</td>\n",
       "      <td>14.84%</td>\n",
       "      <td>0.27%</td>\n",
       "    </tr>\n",
       "  </tbody>\n",
       "</table>\n",
       "</div>"
      ],
      "text/plain": [
       "                            Quantity Ordered       sales quantity_pro  \\\n",
       "Product                                                                 \n",
       "Macbook Pro Laptop                      4724  8030800.00        2.26%   \n",
       "iPhone                                  6845  4791500.00        3.28%   \n",
       "ThinkPad Laptop                         4126  4125958.74        1.98%   \n",
       "Google Phone                            5528  3316800.00        2.65%   \n",
       "27in 4K Gaming Monitor                  6238  2432757.62        2.99%   \n",
       "34in Ultrawide Monitor                  6191  2352518.09        2.97%   \n",
       "Apple Airpods Headphones               15632  2344800.00        7.49%   \n",
       "Flatscreen TV                           4812  1443600.00        2.31%   \n",
       "Bose SoundSport Headphones             13427  1342565.73        6.43%   \n",
       "27in FHD Monitor                        7538  1130624.62        3.61%   \n",
       "Vareebadd Phone                         2066   826400.00        0.99%   \n",
       "20in Monitor                            4123   453488.77        1.98%   \n",
       "LG Washing Machine                       666   399600.00        0.32%   \n",
       "LG Dryer                                 646   387600.00        0.31%   \n",
       "Lightning Charging Cable               23162   346271.90       11.10%   \n",
       "USB-C Charging Cable                   23927   285927.65       11.46%   \n",
       "Wired Headphones                       20516   245986.84        9.83%   \n",
       "AA Batteries (4-pack)                  27614   106037.76       13.23%   \n",
       "AAA Batteries (4-pack)                 30978    92624.22       14.84%   \n",
       "\n",
       "                           sales_pro  \n",
       "Product                               \n",
       "Macbook Pro Laptop            23.31%  \n",
       "iPhone                        13.91%  \n",
       "ThinkPad Laptop               11.97%  \n",
       "Google Phone                   9.63%  \n",
       "27in 4K Gaming Monitor         7.06%  \n",
       "34in Ultrawide Monitor         6.83%  \n",
       "Apple Airpods Headphones       6.81%  \n",
       "Flatscreen TV                  4.19%  \n",
       "Bose SoundSport Headphones     3.90%  \n",
       "27in FHD Monitor               3.28%  \n",
       "Vareebadd Phone                2.40%  \n",
       "20in Monitor                   1.32%  \n",
       "LG Washing Machine             1.16%  \n",
       "LG Dryer                       1.12%  \n",
       "Lightning Charging Cable       1.00%  \n",
       "USB-C Charging Cable           0.83%  \n",
       "Wired Headphones               0.71%  \n",
       "AA Batteries (4-pack)          0.31%  \n",
       "AAA Batteries (4-pack)         0.27%  "
      ]
     },
     "metadata": {},
     "output_type": "display_data"
    }
   ],
   "source": [
    "# Create a table containg the amount and proportion of product orders and product sales revenue \n",
    "product_sales = (\n",
    "     df_2019.groupby(\"Product\")[[\"Quantity Ordered\", \"sales\"]]\n",
    "    .sum()\n",
    "    .sort_values(by=\"sales\", ascending=False) # order by sales revenue\n",
    ")\n",
    "\n",
    "product_sales[\"quantity_pro\"] = percentage_format(\n",
    "    product_sales[\"Quantity Ordered\"] / product_sales[\"Quantity Ordered\"].sum()\n",
    ")\n",
    "product_sales[\"sales_pro\"] = percentage_format(\n",
    "    product_sales[\"sales\"] / product_sales[\"sales\"].sum()\n",
    ")\n",
    "display(product_sales)\n"
   ]
  },
  {
   "attachments": {},
   "cell_type": "markdown",
   "metadata": {},
   "source": [
    "### During which month did the top three products achieve the highest sales?"
   ]
  },
  {
   "cell_type": "code",
   "execution_count": 4955,
   "metadata": {},
   "outputs": [
    {
     "data": {
      "image/png": "[encoded data removed]",
      "text/plain": [
       "<Figure size 640x480 with 1 Axes>"
      ]
     },
     "metadata": {},
     "output_type": "display_data"
    }
   ],
   "source": [
    "top_3_products = [\"Macbook Pro Laptop\", \"iPhone\", \"ThinkPad Laptop\"]\n",
    "df_top3 = df_2019[df_2019[\"Product\"].isin(top_3_products)]\n",
    "grp_top3 = df_top3.groupby([\"Product\", \"Month\"])[\"sales\"].sum().unstack(level=0)#The unstack method is then applied to reshape the resulting DataFrame, so that each product becomes a separate column.\n",
    "\n",
    "# Visualizing \n",
    "grp_top3.plot(kind=\"line\", marker=\"o\")\n",
    "y=np.arange(0, 1500000, 100000)\n",
    "y_ticks=np.arange(0,1500,100)            \n",
    "plt.yticks(y, y_ticks) \n",
    "plt.xlabel(\"Month\")\n",
    "plt.ylabel(\"Sales(K)\")\n",
    "plt.title(\"Sales of Top Three Products by Month\")\n",
    "plt.legend(title=\"Product\")\n",
    "plt.show()"
   ]
  },
  {
   "attachments": {},
   "cell_type": "markdown",
   "metadata": {},
   "source": [
    "## 2019 Geographic Sales Overview & Visualization"
   ]
  },
  {
   "attachments": {},
   "cell_type": "markdown",
   "metadata": {},
   "source": [
    "### Which state or city recorded the highest number of sales?"
   ]
  },
  {
   "cell_type": "code",
   "execution_count": 4956,
   "metadata": {},
   "outputs": [
    {
     "name": "stdout",
     "output_type": "stream",
     "text": [
      "0    136 Church St, New York City, NY 10001\n",
      "1       562 2nd St, New York City, NY 10001\n",
      "2      277 Main St, New York City, NY 10001\n",
      "3       410 6th St, San Francisco, CA 94016\n",
      "4             43 Hill St, Atlanta, GA 30301\n",
      "Name: Purchase Address, dtype: object\n"
     ]
    }
   ],
   "source": [
    "# Check the 'Purchase Address' column\n",
    "print(df_2019[\"Purchase Address\"].head())"
   ]
  },
  {
   "cell_type": "code",
   "execution_count": 4957,
   "metadata": {},
   "outputs": [
    {
     "name": "stdout",
     "output_type": "stream",
     "text": [
      "States: \n",
      " ['NY' 'CA' 'GA' 'OR' 'TX' 'MA' 'ME' 'WA']\n",
      "\n",
      "-------------------------------------------------------------------------------------------\n",
      "\n",
      "Purchase Address Recheck: \n",
      " 0    136 Church St, New York City, NY 10001\n",
      "1       562 2nd St, New York City, NY 10001\n",
      "2      277 Main St, New York City, NY 10001\n",
      "3       410 6th St, San Francisco, CA 94016\n",
      "4             43 Hill St, Atlanta, GA 30301\n",
      "Name: Purchase Address, dtype: object\n"
     ]
    }
   ],
   "source": [
    "# Extracting the state abbreviations from 'Purchase Address' column\n",
    "df_2019.loc[:, \"state\"] = df_2019[\"Purchase Address\"].str[-8:-6]\n",
    "\n",
    "# Check the outcome\n",
    "print(\"States:\", \"\\n\", df_2019[\"state\"].unique())\n",
    "print_divider()\n",
    "print(\"Purchase Address Recheck:\", \"\\n\",df_2019[\"Purchase Address\"].head()) # Ensuring the local dataframe remains unchanged during calculations"
   ]
  },
  {
   "cell_type": "code",
   "execution_count": 4958,
   "metadata": {},
   "outputs": [
    {
     "name": "stdout",
     "output_type": "stream",
     "text": [
      "States Sales Revenue in 2019: \n",
      " state\n",
      "CA    13,699,518.05\n",
      "NY     4,660,122.68\n",
      "TX     4,581,041.37\n",
      "MA     3,657,300.76\n",
      "GA     2,793,819.08\n",
      "WA     2,744,896.03\n",
      "OR     1,869,842.59\n",
      "ME       449,321.38\n",
      "Name: sales, dtype: object\n"
     ]
    },
    {
     "data": {
      "image/png": "[encoded data removed]",
      "text/plain": [
       "<Figure size 640x480 with 1 Axes>"
      ]
     },
     "metadata": {},
     "output_type": "display_data"
    }
   ],
   "source": [
    "# Calculating the state sales revenue\n",
    "state_sales = df_2019.groupby(\"state\")[\"sales\"].sum().sort_values(ascending=False)\n",
    "print(\"States Sales Revenue in 2019:\", \"\\n\", thousand_sep(state_sales))\n",
    "\n",
    "# Visualizing\n",
    "state_sales.plot(kind=\"bar\")\n",
    "y=np.arange(0, 14000000, 1000000)\n",
    "y_ticks=np.arange(0,14,1)            \n",
    "plt.yticks(y, y_ticks) \n",
    "plt.xlabel(\"States\")\n",
    "plt.ylabel(\"Sales (Million)\")\n",
    "plt.title(\"States Sales Revenue in 2019\")\n",
    "plt.xticks(rotation=0)\n",
    "plt.show()"
   ]
  },
  {
   "cell_type": "code",
   "execution_count": 4959,
   "metadata": {},
   "outputs": [
    {
     "name": "stdout",
     "output_type": "stream",
     "text": [
      "Cities: \n",
      " [' New York City' ' San Francisco' ' Atlanta' ' Portland' ' Dallas'\n",
      " ' Los Angeles' ' Boston' ' Austin' ' Seattle']\n"
     ]
    }
   ],
   "source": [
    "# Extracting the cities from 'Purchase Address' column\n",
    "df_2019[\"city\"] = df_2019[\"Purchase Address\"].str.split(\",\").str[1]\n",
    "print(\"Cities:\", \"\\n\",df_2019[\"city\"].unique())"
   ]
  },
  {
   "cell_type": "code",
   "execution_count": 4960,
   "metadata": {},
   "outputs": [
    {
     "name": "stdout",
     "output_type": "stream",
     "text": [
      "Cities Sales Revenue in 2019: \n",
      " city\n",
      " San Francisco    8,252,219.74\n",
      " Los Angeles      5,447,298.31\n",
      " New York City    4,660,122.68\n",
      " Boston           3,657,300.76\n",
      " Atlanta          2,793,819.08\n",
      " Dallas           2,763,509.01\n",
      " Seattle          2,744,896.03\n",
      " Portland         2,319,163.97\n",
      " Austin           1,817,532.36\n",
      "Name: sales, dtype: object\n"
     ]
    },
    {
     "data": {
      "image/png": "[encoded data removed]",
      "text/plain": [
       "<Figure size 640x480 with 1 Axes>"
      ]
     },
     "metadata": {},
     "output_type": "display_data"
    }
   ],
   "source": [
    "# Calculating the cities sales revenue\n",
    "city_sales = df_2019.groupby(\"city\")[\"sales\"].sum().sort_values(ascending=False)\n",
    "print(\"Cities Sales Revenue in 2019:\", \"\\n\", thousand_sep(city_sales))\n",
    "\n",
    "# Visualizing\n",
    "city_sales.plot(kind=\"bar\")\n",
    "y=np.arange(0, 9000000, 1000000)\n",
    "y_ticks=np.arange(0,9,1)            \n",
    "plt.yticks(y, y_ticks) \n",
    "plt.xlabel(\"City\")\n",
    "plt.ylabel(\"Sales (Million)\")\n",
    "plt.title(\"Cities Sales Revenue in 2019\")\n",
    "plt.xticks(rotation=45)\n",
    "plt.show()"
   ]
  },
  {
   "attachments": {},
   "cell_type": "markdown",
   "metadata": {},
   "source": [
    "## What time should we display adverstisement to maximize likelihood of customer's buying product?"
   ]
  },
  {
   "cell_type": "code",
   "execution_count": 4961,
   "metadata": {},
   "outputs": [
    {
     "name": "stdout",
     "output_type": "stream",
     "text": [
      "0     0\n",
      "1     7\n",
      "2    18\n",
      "3    15\n",
      "4    12\n",
      "Name: time, dtype: int64\n"
     ]
    }
   ],
   "source": [
    "# Create a 'time' column to indicate the hour of purchase\n",
    "df_2019[\"time\"] = df_2019[\"Order Date\"].dt.hour\n",
    "df_2019[\"time\"] = df_2019[\"time\"].astype(int)\n",
    "\n",
    "# Check the 'time' column\n",
    "print(df_2019[\"time\"].head())\n"
   ]
  },
  {
   "cell_type": "code",
   "execution_count": 4962,
   "metadata": {},
   "outputs": [
    {
     "name": "stdout",
     "output_type": "stream",
     "text": [
      "Top Three Sales Time Periods with the Highest Revenue: \n",
      " time\n",
      "19    2,411,571.14\n",
      "12    2,314,359.85\n",
      "11    2,296,619.84\n",
      "Name: sales, dtype: object\n"
     ]
    },
    {
     "data": {
      "image/png": "[encoded data removed]",
      "text/plain": [
       "<Figure size 640x480 with 1 Axes>"
      ]
     },
     "metadata": {},
     "output_type": "display_data"
    }
   ],
   "source": [
    "# Calculation\n",
    "ad_time = df_2019.groupby(\"time\")[\"sales\"].sum()\n",
    "\n",
    "# Visualizing\n",
    "\n",
    "y=np.arange(0, 3000000, 500000)\n",
    "y_ticks=np.arange(0,3,0.5)            \n",
    "plt.yticks(y, y_ticks) \n",
    "ad_time.plot(kind=\"line\")\n",
    "plt.xlabel(\"Time\")\n",
    "plt.ylabel(\"Total Sales(Million)\")\n",
    "plt.title(\"Top Three Sales Time Periods with the Highest Revenue\")\n",
    "\n",
    "\n",
    "# Get the top three sales points\n",
    "top_three_indices = ad_time.sort_values(ascending=False).head(3).index\n",
    "top_three_sales = ad_time[top_three_indices]\n",
    "print(\"Top Three Sales Time Periods with the Highest Revenue:\", \"\\n\", thousand_sep(top_three_sales))\n",
    "\n",
    "plt.scatter(top_three_indices, top_three_sales, color=\"red\", marker=\"o\") # Utilize a scatter plot to highlight the time with the highest sales\n",
    "plt.show()"
   ]
  },
  {
   "attachments": {},
   "cell_type": "markdown",
   "metadata": {},
   "source": [
    "## What products are most often sold together?"
   ]
  },
  {
   "cell_type": "code",
   "execution_count": 4963,
   "metadata": {},
   "outputs": [
    {
     "name": "stdout",
     "output_type": "stream",
     "text": [
      "Count of Orders with Product Combinations: 6876\n",
      "\n",
      "-------------------------------------------------------------------------------------------\n",
      "\n",
      "Product Combination in Orders: \n",
      " Order ID\n",
      "141275             [USB-C Charging Cable, Wired Headphones]\n",
      "141290    [Apple Airpods Headphones, AA Batteries (4-pack)]\n",
      "141365                  [Vareebadd Phone, Wired Headphones]\n",
      "141384                 [Google Phone, USB-C Charging Cable]\n",
      "141450           [Google Phone, Bose SoundSport Headphones]\n",
      "Name: Product, dtype: object\n"
     ]
    }
   ],
   "source": [
    "# Group orders by Order ID and collect the products in each order\n",
    "order_groups = df_2019.groupby(\"Order ID\")[\"Product\"].apply(\n",
    "    list\n",
    ")  # apply(list) applies the list function to each group, converting the products of each order into a list. The apply method is used to apply a function (in this case, list) to each group separately.\n",
    "\n",
    "# Filter the order_groups to include only lists with 2 or more elements\n",
    "filtered_order_groups = order_groups[order_groups.apply(lambda x: len(x) >= 2)]\n",
    "print(\"Count of Orders with Product Combinations:\", len(filtered_order_groups))\n",
    "print_divider()\n",
    "\n",
    "# Check the product conbination\n",
    "print(\"Product Combination in Orders:\",\"\\n\", filtered_order_groups.head())\n"
   ]
  },
  {
   "cell_type": "code",
   "execution_count": 4964,
   "metadata": {},
   "outputs": [
    {
     "name": "stdout",
     "output_type": "stream",
     "text": [
      "Top 5 Product Sales Combinations: \n",
      " Product\n",
      "[iPhone, Lightning Charging Cable]         885\n",
      "[Google Phone, USB-C Charging Cable]       857\n",
      "[iPhone, Wired Headphones]                 361\n",
      "[Vareebadd Phone, USB-C Charging Cable]    312\n",
      "[Google Phone, Wired Headphones]           303\n",
      "Name: count, dtype: int64\n"
     ]
    }
   ],
   "source": [
    "# Answer \"What products are most often sold together?\"\n",
    "print(\"Top 5 Product Sales Combinations:\",\"\\n\",  filtered_order_groups.value_counts().head())"
   ]
  }
 ],
 "metadata": {
  "kernelspec": {
   "display_name": "Python 3",
   "language": "python",
   "name": "python3"
  },
  "language_info": {
   "codemirror_mode": {
    "name": "ipython",
    "version": 3
   },
   "file_extension": ".py",
   "mimetype": "text/x-python",
   "name": "python",
   "nbconvert_exporter": "python",
   "pygments_lexer": "ipython3",
   "version": "3.11.2"
  },
  "orig_nbformat": 4
 },
 "nbformat": 4,
 "nbformat_minor": 2
}
